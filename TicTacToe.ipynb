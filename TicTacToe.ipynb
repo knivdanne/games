{
 "cells": [
  {
   "cell_type": "code",
   "execution_count": 1,
   "metadata": {},
   "outputs": [],
   "source": [
    "import numpy as np\n",
    "class TicTacToe:\n",
    "    def __init__(self,move=None,state=None,to_play = None):\n",
    "        #print('Starting Game')\n",
    "        self.result = None\n",
    "        if state is None:\n",
    "            self.state = np.resize(np.zeros(9),(3,3))\n",
    "        else:\n",
    "            self.state = state\n",
    "        self.finished = False\n",
    "        #print(self.state)\n",
    "        #Ones start\n",
    "        if to_play is None:\n",
    "            self.to_play = 1\n",
    "        else:\n",
    "            self.to_play = to_play\n",
    "        \n",
    "        #Not sure I want to play random mode at init...\n",
    "#         if move is None:\n",
    "#             self.play()\n",
    "#         else:\n",
    "#             self.play(move=move)\n",
    "    \n",
    "    def board(self):\n",
    "        print(self.state)\n",
    "    \n",
    "    def game_status(self):\n",
    "        self.result = None\n",
    "        self.finished = False\n",
    "            \n",
    "        for i in range(3):\n",
    "            #If rows have three in row of same number then someone won\n",
    "            row_result = self.state[i].sum()\n",
    "            if row_result in (-3,3):\n",
    "                self.finished=True\n",
    "                self.result= 'win' if row_result>0 else 'loss'\n",
    "            #If columns have three in row of same number then someone won\n",
    "            column_result = np.rot90(self.state,1)[i].sum()\n",
    "            if column_result in (-3,3):\n",
    "                self.finished=True\n",
    "                self.result= 'win' if column_result>0 else 'loss'\n",
    "        #if either diagonal have three in row of same number then someone won\n",
    "        diagonal_result = self.state[0][0]+self.state[1][1]+self.state[2][2]\n",
    "        if diagonal_result in (-3,3):\n",
    "            self.finished=True\n",
    "            self.result= 'win' if diagonal_result>0 else 'loss'\n",
    "        diagonal_result = self.state[0][2]+self.state[1][1]+self.state[2][0]\n",
    "        if diagonal_result in (-3,3):\n",
    "            self.finished=True\n",
    "            self.result= 'win' if diagonal_result>0 else 'loss'\n",
    "        \n",
    "        #If we placed something on all places without a victor then it's a draw\n",
    "        if 0 not in self.state and self.result is None:\n",
    "            self.finished=True\n",
    "            self.result='draw'\n",
    "        \n",
    "        \n",
    "    def play(self,move=None):\n",
    "        #row_index = int(input('Enter row 0-2: '))\n",
    "        #column_index = int(input('Enter column 0-2: '))\n",
    "        row_index = np.random.randint(0,3)\n",
    "        column_index = np.random.randint(0,3)\n",
    "        if move is None:\n",
    "            move = (row_index,column_index)\n",
    "        \n",
    "        if row_index>2 or column_index>2:\n",
    "            #print('out of bounds try again')\n",
    "            return self.play()\n",
    "        if self.state[move]!=0:\n",
    "            #print('someone already played this position, try again')\n",
    "            return self.play()\n",
    "        previous_state = self.state\n",
    "        self.state[move] = self.to_play\n",
    "        self.move_taken = move\n",
    "        #print(self.state)\n",
    "        self.game_status()\n",
    "        #print('Finished',self.finished)\n",
    "        if self.finished:\n",
    "            return#print('Result:',self.result)\n",
    "        else:\n",
    "            self.to_play = self.to_play*-1\n",
    "            #return self.play()"
   ]
  },
  {
   "cell_type": "code",
   "execution_count": 2,
   "metadata": {},
   "outputs": [],
   "source": [
    "#They have a nodeclass in Muzerro that looks like this\n",
    "#Not really sure how that works\n",
    "#So I assume each node has children that are other nodes.\n",
    "#And each node then have attributes, like score, rewards, who's turn it is to play etc\n",
    "#THat actually makes a lot of sense!!!!\n",
    "#So I should be able to run an expansion function on this, to then update the children\n",
    "#something like this\n",
    "\n",
    "\"\"\"root = Node(0)\n",
    "    current_observation = game.make_image(-1)\n",
    "    expand_node(root, game.to_play(), game.legal_actions(),\n",
    "                network.initial_inference(current_observation))\n",
    "    add_exploration_noise(config, root)\"\"\"\n",
    "#Note that root node is the first node of the entire treee that has no parents\n",
    "#A leaf node is a node that doesn't have any children\n",
    "\n",
    "\"\"\"\n",
    "This process continues, creating a new MCTS tree from scratch each turn and using it to choose an action,\n",
    "until the end of the game.\n",
    "\n",
    "So I play an imaginary game from current board position each turn\n",
    "during those imaginary games I run MCTS for X amount of simulations\n",
    "It should then return some stuff, that allows me to pick the next turn.\n",
    "After my next turn, and opponents next turn, I then re-run the MCTS from scratch, not keeping any old historic scores.\n",
    "\n",
    "\"\"\"\n",
    "\n",
    "class Node(object):\n",
    "\n",
    "    def __init__(self, prior: float):\n",
    "        self.visit_count = 0 #Amount of times we have simulated from this node or any of its children\n",
    "        self.to_play = -1 #Whos turn it is to play, not sure why this isn't part of init parameters?\n",
    "        self.prior = prior #the predicted prior probability of choosing the action that leads to this node\n",
    "        self.value_sum = 0 #the backfilled value sum of the node \n",
    "        \n",
    "        #This should be put by an expand_node function if I expand the node, each child being its own node\n",
    "        #It should be a ditctionary containing the action taken as the key, and the child node that creates as value\n",
    "        '''visit_counts = [\n",
    "      (child.visit_count, action) for action, child in node.children.items()\n",
    "      ]'''\n",
    "        self.children = {} #{action:childnode}\n",
    "        \n",
    "        self.hidden_state = None # the hidden state the node corresponds to\n",
    "        self.reward = 0 #the predicted reward received by moving to this node\n",
    "\n",
    "    #This function just lets us know if we have expanded the node already\n",
    "    def expanded(self) -> bool:\n",
    "        return len(self.children) > 0\n",
    "\n",
    "    #This seems to calculate the %ratio a visit of node resulted in win, which should be used for node selection criteria\n",
    "    #Might also be used as reward for the ML algorithm?\n",
    "    def value(self) -> float:\n",
    "        if self.visit_count == 0:\n",
    "            return 0\n",
    "        return self.value_sum / self.visit_count"
   ]
  },
  {
   "cell_type": "code",
   "execution_count": 3,
   "metadata": {},
   "outputs": [],
   "source": [
    "def expand_node(root : Node):\n",
    "    #This is where we expand our current turn to understand which moves we can make\n",
    "    moves = []\n",
    "    current_state = root.hidden_state.copy()\n",
    "    \n",
    "    #this gives legal nodes\n",
    "    #In actual muzero this is done elsewhere I think\n",
    "    for r in range(0,3):\n",
    "        for c in range(0,3):\n",
    "            if current_state[r,c]==0:\n",
    "                moves.append((r,c))\n",
    "    #We add a childnode for each possible move\n",
    "    for move in moves:\n",
    "        new_state = current_state.copy()\n",
    "        new_state[move] = root.to_play #The new state of the board if we play this move\n",
    "        childnode = Node(0) #I create a new childnode, but not sure what to put as prior\n",
    "        childnode.to_play = root.to_play*-1 #It's the next person's turn at this node\n",
    "        childnode.hidden_state=new_state #The state of the childnode based on playing this move\n",
    "        root.children.update({move:childnode}) #Add this node to our possible children nodes        \n",
    "    #We return the new node now containing its expanded children\n",
    "    return root\n"
   ]
  },
  {
   "cell_type": "code",
   "execution_count": 4,
   "metadata": {},
   "outputs": [],
   "source": [
    "def choose_action(root:Node,legal_moves:list):\n",
    "    #probably thinking a bit incorrectly here\n",
    "    #I assume that just the first child selection should be UCB based\n",
    "    #Next selections should be random?\n",
    "    #Or maybe not necessairly\n",
    "    action = None\n",
    "    #If we havent started yet, then just take random move\n",
    "    if root.visit_count==0:\n",
    "        while action not in legal_moves:\n",
    "            row_index = np.random.randint(0,3)\n",
    "            column_index = np.random.randint(0,3)\n",
    "            action = (row_index,column_index)\n",
    "        return action\n",
    "    #if we have started then calculate the ucb score\n",
    "    #for each child node and select highest score\n",
    "    exploration_values = []\n",
    "    actions = [] #Will store the actions so we can get child\n",
    "    for action_key in root.children:\n",
    "        if root.children[action_key].visit_count==0:\n",
    "            child_score = float('inf')\n",
    "        else:\n",
    "            child_score = ucb_score(parent=root,child=root.children[action_key])\n",
    "        exploration_values.append(child_score)\n",
    "        actions.append(action_key)\n",
    "    highest_value = max(exploration_values)\n",
    "    action = actions[exploration_values.index(highest_value)]\n",
    "    return action"
   ]
  },
  {
   "cell_type": "code",
   "execution_count": 5,
   "metadata": {},
   "outputs": [],
   "source": [
    "import math"
   ]
  },
  {
   "cell_type": "code",
   "execution_count": 6,
   "metadata": {},
   "outputs": [],
   "source": [
    "def add_exploration_noise(node: Node):\n",
    "    # Root prior exploration noise.\n",
    "    root_dirichlet_alpha = 1 #0.3 is for chess, not sure if shoul have lower or higher\n",
    "    root_exploration_fraction = 0.25\n",
    "    #add exploration noise at start of search\n",
    "    actions = list(node.children.keys())\n",
    "    noise = np.random.dirichlet([root_dirichlet_alpha] * len(actions))\n",
    "    frac = root_exploration_fraction\n",
    "    for a, n in zip(actions, noise):\n",
    "        node.children[a].prior = node.children[a].prior * (1 - frac) + n * frac"
   ]
  },
  {
   "cell_type": "code",
   "execution_count": 7,
   "metadata": {},
   "outputs": [],
   "source": [
    "def ucb_score(parent: Node, child: Node) -> float:\n",
    "#     pb_c_base = 19652\n",
    "#     pb_c_init = 1.25\n",
    "#     pb_c = math.log((parent.visit_count + pb_c_base + 1) /\n",
    "#                   pb_c_base) + pb_c_init\n",
    "#     pb_c *= math.sqrt(parent.visit_count) / (child.visit_count + 1)\n",
    "#     #print('pc_c',pb_c)\n",
    "#     prior_score = pb_c * child.prior\n",
    "#     #print('prior_score',prior_score)\n",
    "#     value_score = child.value()\n",
    "#     print('returned_value',prior_score + value_score)\n",
    "#     return prior_score + value_score\n",
    "    parent_node_visits = parent.visit_count\n",
    "\n",
    "    exploration_term = (math.sqrt(2.0)\n",
    "                        * math.sqrt(math.log(parent_node_visits) / child.visit_count))\n",
    "\n",
    "    value = child.value() + exploration_term\n",
    "    return value"
   ]
  },
  {
   "cell_type": "code",
   "execution_count": 14,
   "metadata": {},
   "outputs": [],
   "source": [
    "def run_shit(root:Node,game:TicTacToe,simulations=1200):\n",
    "    #This function runs bunch of simulations\n",
    "    #It then return the move that returned most wins\n",
    "    #We will try random move 100 times\n",
    "    for _ in range(simulations):\n",
    "        #This will play the next move and expand till the end\n",
    "        fake_game = TicTacToe()\n",
    "        fake_game.to_play = game.to_play\n",
    "        fake_game.state = game.state.copy()\n",
    "        path = [root] #This contains all the nodes we played\n",
    "        legal_moves = [list(root.children.keys())][0]\n",
    "        action = choose_action(root,legal_moves)\n",
    "        current_node = root.children[action]\n",
    "        while fake_game.result is None:\n",
    "            path.append(current_node)\n",
    "            fake_game.play(action)\n",
    "            if fake_game.result is not None:\n",
    "                break\n",
    "            if not current_node.expanded():\n",
    "                expand_node(current_node)\n",
    "                add_exploration_noise(current_node)\n",
    "            legal_moves = [list(current_node.children.keys())][0]\n",
    "            action = choose_action(current_node,legal_moves)\n",
    "            #The node corresonding to chosen action\n",
    "            chosen_node = current_node.children[action]\n",
    "            current_node = chosen_node\n",
    "\n",
    "        # we give the result to parent node or all nodes?\n",
    "        # probably just parent?    \n",
    "        #back propagate result\n",
    "        #print(path)\n",
    "        for node in reversed(path):\n",
    "            #print(node)\n",
    "            #print(node.to_play)\n",
    "            node.visit_count+=1\n",
    "            #If we win then we get a point\n",
    "            if fake_game.result=='win' and node.to_play!=fake_game.to_play:\n",
    "                node.value_sum+=1\n",
    "            #in tictactoe draw is pretty much expected so we give half a point to all\n",
    "            if fake_game.result=='draw':\n",
    "                node.value_sum+=1 #in tictactoe draw is pretty much expected\n",
    "#                 node.value_sum+=0.5\n",
    "            #If the other one loses then we get an extra point\n",
    "            #if fake_game.result=='loss' and node.to_play==fake_game.to_play:\n",
    "                #node.value_sum+=1\n",
    "                #print(node.to_play)\n",
    "                #print(fake_game.state)\n",
    "#                 node.value_sum-=1\n",
    "\n",
    "    actions = []\n",
    "    values = []\n",
    "    result = {}\n",
    "    visits = []\n",
    "    nodes = []\n",
    "    for action,child in root.children.items():\n",
    "        nodes.append(child)\n",
    "        actions.append(action)\n",
    "        values.append(child.value())\n",
    "        result.update({action:child.value()})\n",
    "        visits.append(child.visit_count)\n",
    "#     return actions[values.index(max(values))],result\n",
    "    return actions[visits.index(max(visits))],result,visits,nodes"
   ]
  },
  {
   "cell_type": "code",
   "execution_count": 15,
   "metadata": {},
   "outputs": [],
   "source": [
    "def play_game(turns=2,simulations=5000):\n",
    "    game = TicTacToe()\n",
    "    counter = 0\n",
    "    History=[]\n",
    "    while game.result is None and counter<turns:\n",
    "        counter+=1\n",
    "        if game.to_play==-1:\n",
    "            root = Node(0) #We create a new root node from scratch\n",
    "            root.to_play = game.to_play #We give it turn to play based on game's current status\n",
    "            root.hidden_state = game.state.copy() #We give it the current state of the game\n",
    "            expand_node(root) #Each time we start new search we expand root\n",
    "            add_exploration_noise(root) #We then add exploration noise as prior value to children\n",
    "            move,values,visits,child = run_shit(root,game,simulations) #Simulate some games\n",
    "            game.play(move)\n",
    "            History.append([move,values,visits,child,game.state.copy()])\n",
    "        else:\n",
    "            row_index = int(input('Enter row 0-2: '))\n",
    "            column_index = int(input('Enter column 0-2: '))\n",
    "            move = (row_index,column_index)\n",
    "            game.play(move)\n",
    "        print(game.state)\n",
    "    print(game.result)\n",
    "    return History"
   ]
  },
  {
   "cell_type": "code",
   "execution_count": 16,
   "metadata": {},
   "outputs": [],
   "source": [
    "def self_play(number_of_games:int):\n",
    "    Games = []\n",
    "    for _ in range(number_of_games): #play some real games to see if it always ties\n",
    "        History = []\n",
    "        game = TicTacToe()\n",
    "        while game.result is None:\n",
    "            #Initialize a new round of MCTS\n",
    "            root = Node(0) #We create a new root node from scratch\n",
    "            root.to_play = game.to_play #We give it turn to play based on game's current status\n",
    "            root.hidden_state = game.state.copy() #We give it the current state of the game\n",
    "            expand_node(root) #Each time we start new search we expand root\n",
    "            add_exploration_noise(root) #We then add exploration noise as prior value to children\n",
    "            move,values,visits,child = run_shit(root,game) #Simulate some games\n",
    "\n",
    "            game.play(move)\n",
    "            History.append([move,values,visits,child,game.state.copy()])\n",
    "        Games.append([game.result,History])\n",
    "    return Games"
   ]
  },
  {
   "cell_type": "code",
   "execution_count": 45,
   "metadata": {},
   "outputs": [
    {
     "name": "stdout",
     "output_type": "stream",
     "text": [
      "Enter row 0-2: 1\n",
      "Enter column 0-2: 1\n",
      "[[0. 0. 0.]\n",
      " [0. 1. 0.]\n",
      " [0. 0. 0.]]\n",
      "[[ 0.  0. -1.]\n",
      " [ 0.  1.  0.]\n",
      " [ 0.  0.  0.]]\n",
      "None\n"
     ]
    }
   ],
   "source": [
    "Info = play_game(simulations=6000,turns=2)"
   ]
  },
  {
   "cell_type": "code",
   "execution_count": 42,
   "metadata": {},
   "outputs": [
    {
     "data": {
      "text/plain": [
       "[[(2, 2),\n",
       "  {(0, 0): 0.11900532859680284,\n",
       "   (0, 1): 0.09567198177676538,\n",
       "   (0, 2): 0.11580882352941177,\n",
       "   (1, 0): 0.1508313539192399,\n",
       "   (1, 2): 0.11580882352941177,\n",
       "   (2, 0): 0.16283716283716285,\n",
       "   (2, 1): 0.14731585518102372,\n",
       "   (2, 2): 0.23064770932069512},\n",
       "  [563, 439, 544, 842, 544, 1001, 801, 1266],\n",
       "  [<__main__.Node at 0x2876b3cbfd0>,\n",
       "   <__main__.Node at 0x2876c319470>,\n",
       "   <__main__.Node at 0x28771750860>,\n",
       "   <__main__.Node at 0x28771750470>,\n",
       "   <__main__.Node at 0x28771750390>,\n",
       "   <__main__.Node at 0x287707afbe0>,\n",
       "   <__main__.Node at 0x287707afeb8>,\n",
       "   <__main__.Node at 0x287707af6d8>],\n",
       "  array([[ 0.,  0.,  0.],\n",
       "         [ 0.,  1.,  0.],\n",
       "         [ 0.,  0., -1.]])]]"
      ]
     },
     "execution_count": 42,
     "metadata": {},
     "output_type": "execute_result"
    }
   ],
   "source": [
    "Info"
   ]
  },
  {
   "cell_type": "code",
   "execution_count": null,
   "metadata": {},
   "outputs": [],
   "source": []
  },
  {
   "cell_type": "code",
   "execution_count": null,
   "metadata": {},
   "outputs": [],
   "source": []
  },
  {
   "cell_type": "code",
   "execution_count": 32,
   "metadata": {},
   "outputs": [],
   "source": [
    "Interesting3 = Info"
   ]
  },
  {
   "cell_type": "code",
   "execution_count": 27,
   "metadata": {},
   "outputs": [],
   "source": [
    "Interesting2 = Info"
   ]
  },
  {
   "cell_type": "code",
   "execution_count": 22,
   "metadata": {},
   "outputs": [],
   "source": [
    "Interesting = Info"
   ]
  },
  {
   "cell_type": "code",
   "execution_count": 24,
   "metadata": {},
   "outputs": [
    {
     "data": {
      "text/plain": [
       "[[(0, 2),\n",
       "  {(0, 0): 0.07023411371237458,\n",
       "   (0, 1): 0.16336633663366337,\n",
       "   (0, 2): 0.9314027344170525,\n",
       "   (1, 0): 0.11059907834101383,\n",
       "   (1, 2): 0.12424849699398798,\n",
       "   (2, 0): 0.11286681715575621,\n",
       "   (2, 1): 0.12903225806451613,\n",
       "   (2, 2): 0.13211009174311927},\n",
       "  [299, 808, 46445, 434, 499, 443, 527, 545],\n",
       "  [<__main__.Node at 0x2876b3cbc50>,\n",
       "   <__main__.Node at 0x2876b3cbb38>,\n",
       "   <__main__.Node at 0x2876b3cbc18>,\n",
       "   <__main__.Node at 0x2876b3cbda0>,\n",
       "   <__main__.Node at 0x2876b3cbb70>,\n",
       "   <__main__.Node at 0x2876b3cbba8>,\n",
       "   <__main__.Node at 0x2876b3cb908>,\n",
       "   <__main__.Node at 0x2876b3cb940>],\n",
       "  array([[ 0.,  0., -1.],\n",
       "         [ 0.,  1.,  0.],\n",
       "         [ 0.,  0.,  0.]])]]"
      ]
     },
     "execution_count": 24,
     "metadata": {},
     "output_type": "execute_result"
    }
   ],
   "source": [
    "Interesting"
   ]
  },
  {
   "cell_type": "code",
   "execution_count": 132,
   "metadata": {},
   "outputs": [
    {
     "data": {
      "text/plain": [
       "[[(1, 2),\n",
       "  {(0, 0): 0.10044642857142858,\n",
       "   (0, 1): 0.12769485903814262,\n",
       "   (0, 2): 0.12050359712230216,\n",
       "   (1, 0): 0.12413793103448276,\n",
       "   (1, 2): 0.14675324675324675,\n",
       "   (2, 0): 0.1432469304229195,\n",
       "   (2, 1): 0.13916786226685796,\n",
       "   (2, 2): 0.12887438825448613},\n",
       "  [448, 603, 556, 580, 770, 733, 697, 613],\n",
       "  [<__main__.Node at 0x2bb354a5208>,\n",
       "   <__main__.Node at 0x2bb354a5470>,\n",
       "   <__main__.Node at 0x2bb354a52e8>,\n",
       "   <__main__.Node at 0x2bb354a5080>,\n",
       "   <__main__.Node at 0x2bb354a59b0>,\n",
       "   <__main__.Node at 0x2bb354a59e8>,\n",
       "   <__main__.Node at 0x2bb354a5978>,\n",
       "   <__main__.Node at 0x2bb354a5438>],\n",
       "  array([[ 0.,  0.,  0.],\n",
       "         [ 0.,  1., -1.],\n",
       "         [ 0.,  0.,  0.]])],\n",
       " [(2, 2),\n",
       "  {(0, 1): 0.10810810810810811,\n",
       "   (0, 2): 0.0,\n",
       "   (1, 0): 0.0,\n",
       "   (2, 0): 0.1,\n",
       "   (2, 1): 0.0,\n",
       "   (2, 2): 0.7437473505722764},\n",
       "  [74, 46, 46, 70, 46, 4718],\n",
       "  [<__main__.Node at 0x2bb35014fd0>,\n",
       "   <__main__.Node at 0x2bb34f67d68>,\n",
       "   <__main__.Node at 0x2bb35100cc0>,\n",
       "   <__main__.Node at 0x2bb35100be0>,\n",
       "   <__main__.Node at 0x2bb35100ac8>,\n",
       "   <__main__.Node at 0x2bb35100c18>],\n",
       "  array([[ 1.,  0.,  0.],\n",
       "         [ 0.,  1., -1.],\n",
       "         [ 0.,  0., -1.]])],\n",
       " [(0, 1),\n",
       "  {(0, 1): 0.6593373493975904,\n",
       "   (1, 0): 0.0,\n",
       "   (2, 0): 0.6280940594059405,\n",
       "   (2, 1): 0.0},\n",
       "  [3320, 32, 1616, 32],\n",
       "  [<__main__.Node at 0x2bb351d9ef0>,\n",
       "   <__main__.Node at 0x2bb35100cf8>,\n",
       "   <__main__.Node at 0x2bb351efdd8>,\n",
       "   <__main__.Node at 0x2bb351efd30>],\n",
       "  array([[ 1., -1.,  1.],\n",
       "         [ 0.,  1., -1.],\n",
       "         [ 0.,  0., -1.]])]]"
      ]
     },
     "execution_count": 132,
     "metadata": {},
     "output_type": "execute_result"
    }
   ],
   "source": [
    "Info"
   ]
  },
  {
   "cell_type": "code",
   "execution_count": 128,
   "metadata": {},
   "outputs": [
    {
     "data": {
      "text/plain": [
       "[[(0, 2),\n",
       "  {(0, 0): 0.15102639296187684,\n",
       "   (0, 1): 0.15160349854227406,\n",
       "   (0, 2): 0.16974169741697417,\n",
       "   (1, 0): 0.1308411214953271,\n",
       "   (1, 2): 0.1504424778761062,\n",
       "   (2, 0): 0.14947683109118087,\n",
       "   (2, 1): 0.11409395973154363,\n",
       "   (2, 2): 0.12244897959183673},\n",
       "  [682, 686, 813, 535, 678, 669, 447, 490],\n",
       "  [<__main__.Node at 0x2bb32501978>,\n",
       "   <__main__.Node at 0x2bb32501908>,\n",
       "   <__main__.Node at 0x2bb325018d0>,\n",
       "   <__main__.Node at 0x2bb32501cc0>,\n",
       "   <__main__.Node at 0x2bb32501940>,\n",
       "   <__main__.Node at 0x2bb325017b8>,\n",
       "   <__main__.Node at 0x2bb32501ef0>,\n",
       "   <__main__.Node at 0x2bb325019b0>],\n",
       "  array([[ 0.,  0., -1.],\n",
       "         [ 0.,  1.,  0.],\n",
       "         [ 0.,  0.,  0.]])],\n",
       " [(0, 0),\n",
       "  {(0, 0): 0.9186454676853191,\n",
       "   (0, 1): 0.0,\n",
       "   (1, 0): 0.07142857142857142,\n",
       "   (1, 2): 0.12121212121212122,\n",
       "   (2, 0): 0.0,\n",
       "   (2, 1): 0.24},\n",
       "  [4843, 23, 28, 33, 23, 50],\n",
       "  [<__main__.Node at 0x2bb344e8f98>,\n",
       "   <__main__.Node at 0x2bb344e8fd0>,\n",
       "   <__main__.Node at 0x2bb34485f60>,\n",
       "   <__main__.Node at 0x2bb3444efd0>,\n",
       "   <__main__.Node at 0x2bb344f4048>,\n",
       "   <__main__.Node at 0x2bb344f4080>],\n",
       "  array([[-1.,  0., -1.],\n",
       "         [ 0.,  1.,  0.],\n",
       "         [ 0.,  0.,  1.]])],\n",
       " [(2, 1),\n",
       "  {(1, 0): 0.53125,\n",
       "   (1, 2): 0.5925925925925926,\n",
       "   (2, 0): 0.0,\n",
       "   (2, 1): 0.9946269890473238},\n",
       "  [64, 81, 16, 4839],\n",
       "  [<__main__.Node at 0x2bb34515f60>,\n",
       "   <__main__.Node at 0x2bb3452af28>,\n",
       "   <__main__.Node at 0x2bb345576d8>,\n",
       "   <__main__.Node at 0x2bb34557630>],\n",
       "  array([[-1.,  1., -1.],\n",
       "         [ 0.,  1.,  0.],\n",
       "         [ 0., -1.,  1.]])],\n",
       " [(1, 2),\n",
       "  {(1, 2): 1.0, (2, 0): 0.0},\n",
       "  [4984, 16],\n",
       "  [<__main__.Node at 0x2bb345576a0>, <__main__.Node at 0x2bb34557710>],\n",
       "  array([[-1.,  1., -1.],\n",
       "         [ 1.,  1., -1.],\n",
       "         [ 0., -1.,  1.]])]]"
      ]
     },
     "execution_count": 128,
     "metadata": {},
     "output_type": "execute_result"
    }
   ],
   "source": [
    "Info"
   ]
  },
  {
   "cell_type": "code",
   "execution_count": 111,
   "metadata": {},
   "outputs": [
    {
     "data": {
      "text/plain": [
       "[[(1, 0),\n",
       "  {(0, 0): 0.11029411764705882,\n",
       "   (0, 1): 0.11347517730496454,\n",
       "   (0, 2): 0.1263318112633181,\n",
       "   (1, 0): 0.15416666666666667,\n",
       "   (1, 2): 0.10412573673870335,\n",
       "   (2, 0): 0.10687022900763359,\n",
       "   (2, 1): 0.13914174252275682,\n",
       "   (2, 2): 0.09725158562367865},\n",
       "  [544, 564, 657, 960, 509, 524, 769, 473],\n",
       "  [<__main__.Node at 0x2bb2d8a5470>,\n",
       "   <__main__.Node at 0x2bb2d8a56d8>,\n",
       "   <__main__.Node at 0x2bb2d8a58d0>,\n",
       "   <__main__.Node at 0x2bb2d8a5710>,\n",
       "   <__main__.Node at 0x2bb2d8a5630>,\n",
       "   <__main__.Node at 0x2bb2d8a5588>,\n",
       "   <__main__.Node at 0x2bb2d8a52e8>,\n",
       "   <__main__.Node at 0x2bb2d8a5390>],\n",
       "  array([[ 0.,  0.,  0.],\n",
       "         [-1.,  1.,  0.],\n",
       "         [ 0.,  0.,  0.]])]]"
      ]
     },
     "execution_count": 111,
     "metadata": {},
     "output_type": "execute_result"
    }
   ],
   "source": [
    "Info"
   ]
  },
  {
   "cell_type": "code",
   "execution_count": 94,
   "metadata": {},
   "outputs": [],
   "source": [
    "test = [0,1,2]"
   ]
  },
  {
   "cell_type": "code",
   "execution_count": 95,
   "metadata": {},
   "outputs": [
    {
     "name": "stdout",
     "output_type": "stream",
     "text": [
      "2\n",
      "1\n",
      "0\n"
     ]
    }
   ],
   "source": [
    "for item in reversed(test):\n",
    "    print(item)"
   ]
  },
  {
   "cell_type": "code",
   "execution_count": 86,
   "metadata": {},
   "outputs": [
    {
     "data": {
      "text/plain": [
       "[[(0, 1),\n",
       "  {(0, 1): 1.0,\n",
       "   (0, 2): 1.0,\n",
       "   (1, 0): 1.0,\n",
       "   (1, 1): 1.0,\n",
       "   (1, 2): 1.0,\n",
       "   (2, 0): 1.0,\n",
       "   (2, 1): 1.0,\n",
       "   (2, 2): 1.0},\n",
       "  [625, 625, 625, 625, 625, 625, 625, 625],\n",
       "  [<__main__.Node at 0x2bb2a36f860>,\n",
       "   <__main__.Node at 0x2bb2a36fac8>,\n",
       "   <__main__.Node at 0x2bb2a36fef0>,\n",
       "   <__main__.Node at 0x2bb2a36ff28>,\n",
       "   <__main__.Node at 0x2bb2a36fa90>,\n",
       "   <__main__.Node at 0x2bb2a36fa58>,\n",
       "   <__main__.Node at 0x2bb2a36f978>,\n",
       "   <__main__.Node at 0x2bb2a36f9e8>],\n",
       "  array([[ 1., -1.,  0.],\n",
       "         [ 0.,  0.,  0.],\n",
       "         [ 0.,  0.,  0.]])]]"
      ]
     },
     "execution_count": 86,
     "metadata": {},
     "output_type": "execute_result"
    }
   ],
   "source": [
    "Info"
   ]
  },
  {
   "cell_type": "code",
   "execution_count": 48,
   "metadata": {},
   "outputs": [
    {
     "data": {
      "text/plain": [
       "659"
      ]
     },
     "execution_count": 48,
     "metadata": {},
     "output_type": "execute_result"
    }
   ],
   "source": [
    "Info[0][3][4].visit_count"
   ]
  },
  {
   "cell_type": "code",
   "execution_count": 49,
   "metadata": {},
   "outputs": [
    {
     "data": {
      "text/plain": [
       "0.061456752655538696"
      ]
     },
     "execution_count": 49,
     "metadata": {},
     "output_type": "execute_result"
    }
   ],
   "source": [
    "Info[0][3][4].value()"
   ]
  },
  {
   "cell_type": "code",
   "execution_count": 50,
   "metadata": {},
   "outputs": [
    {
     "data": {
      "text/plain": [
       "40.5"
      ]
     },
     "execution_count": 50,
     "metadata": {},
     "output_type": "execute_result"
    }
   ],
   "source": [
    "Info[0][3][4].value_sum"
   ]
  },
  {
   "cell_type": "code",
   "execution_count": 53,
   "metadata": {},
   "outputs": [
    {
     "data": {
      "text/plain": [
       "(648, 39.0)"
      ]
     },
     "execution_count": 53,
     "metadata": {},
     "output_type": "execute_result"
    }
   ],
   "source": [
    "#This should have lead to Draw? Why only 39 points\n",
    "#Out of 648\n",
    "Info[0][3][0].visit_count,Info[0][3][0].value_sum"
   ]
  },
  {
   "cell_type": "code",
   "execution_count": 62,
   "metadata": {},
   "outputs": [],
   "source": []
  },
  {
   "cell_type": "code",
   "execution_count": 61,
   "metadata": {},
   "outputs": [
    {
     "name": "stdout",
     "output_type": "stream",
     "text": [
      "[[-1.  1.  0.]\n",
      " [ 0.  1.  0.]\n",
      " [ 0.  0.  0.]]\n",
      "115\n",
      "89.5\n",
      "[[-1.  0.  1.]\n",
      " [ 0.  1.  0.]\n",
      " [ 0.  0.  0.]]\n",
      "122\n",
      "96.0\n",
      "[[-1.  0.  0.]\n",
      " [ 1.  1.  0.]\n",
      " [ 0.  0.  0.]]\n",
      "107\n",
      "82.5\n",
      "[[-1.  0.  0.]\n",
      " [ 0.  1.  1.]\n",
      " [ 0.  0.  0.]]\n",
      "90\n",
      "66.5\n",
      "[[-1.  0.  0.]\n",
      " [ 0.  1.  0.]\n",
      " [ 1.  0.  0.]]\n",
      "83\n",
      "60.0\n",
      "[[-1.  0.  0.]\n",
      " [ 0.  1.  0.]\n",
      " [ 0.  1.  0.]]\n",
      "85\n",
      "61.5\n",
      "[[-1.  0.  0.]\n",
      " [ 0.  1.  0.]\n",
      " [ 0.  0.  1.]]\n",
      "46\n",
      "27.0\n"
     ]
    }
   ],
   "source": [
    "weird = Info[0][3][0]\n",
    "for action_key in weird.children:\n",
    "    print(weird.children[action_key].hidden_state)\n",
    "    print(weird.children[action_key].visit_count)\n",
    "    print(weird.children[action_key].value_sum)"
   ]
  },
  {
   "cell_type": "code",
   "execution_count": 64,
   "metadata": {},
   "outputs": [
    {
     "data": {
      "text/plain": [
       "-1"
      ]
     },
     "execution_count": 64,
     "metadata": {},
     "output_type": "execute_result"
    }
   ],
   "source": [
    "new.to_play"
   ]
  },
  {
   "cell_type": "code",
   "execution_count": 65,
   "metadata": {},
   "outputs": [
    {
     "data": {
      "text/plain": [
       "1"
      ]
     },
     "execution_count": 65,
     "metadata": {},
     "output_type": "execute_result"
    }
   ],
   "source": [
    "weird.to_play"
   ]
  },
  {
   "cell_type": "code",
   "execution_count": 63,
   "metadata": {},
   "outputs": [
    {
     "name": "stdout",
     "output_type": "stream",
     "text": [
      "[[-1. -1.  1.]\n",
      " [ 0.  1.  0.]\n",
      " [ 0.  0.  0.]]\n",
      "23\n",
      "2.0\n",
      "[[-1.  0.  1.]\n",
      " [-1.  1.  0.]\n",
      " [ 0.  0.  0.]]\n",
      "18\n",
      "0\n",
      "[[-1.  0.  1.]\n",
      " [ 0.  1. -1.]\n",
      " [ 0.  0.  0.]]\n",
      "23\n",
      "2.0\n",
      "[[-1.  0.  1.]\n",
      " [ 0.  1.  0.]\n",
      " [-1.  0.  0.]]\n",
      "21\n",
      "1.5\n",
      "[[-1.  0.  1.]\n",
      " [ 0.  1.  0.]\n",
      " [ 0. -1.  0.]]\n",
      "19\n",
      "0.5\n",
      "[[-1.  0.  1.]\n",
      " [ 0.  1.  0.]\n",
      " [ 0.  0. -1.]]\n",
      "18\n",
      "0\n"
     ]
    }
   ],
   "source": [
    "new = weird.children[(0,2)]\n",
    "for action_key in new.children:\n",
    "    print(new.children[action_key].hidden_state)\n",
    "    print(new.children[action_key].visit_count)\n",
    "    print(new.children[action_key].value_sum)"
   ]
  },
  {
   "cell_type": "code",
   "execution_count": 59,
   "metadata": {},
   "outputs": [
    {
     "name": "stdout",
     "output_type": "stream",
     "text": [
      "97\n",
      "79.0\n",
      "79\n",
      "60.5\n",
      "114\n",
      "95.5\n",
      "62\n",
      "44.5\n",
      "88\n",
      "70.0\n",
      "101\n",
      "82.0\n",
      "118\n",
      "100.0\n"
     ]
    }
   ],
   "source": [
    "weird = Info[0][3][4]\n",
    "for action_key in weird.children:\n",
    "    print(weird.children[action_key].visit_count)\n",
    "    print(weird.children[action_key].value_sum)"
   ]
  },
  {
   "cell_type": "code",
   "execution_count": null,
   "metadata": {},
   "outputs": [],
   "source": []
  },
  {
   "cell_type": "code",
   "execution_count": null,
   "metadata": {},
   "outputs": [],
   "source": []
  },
  {
   "cell_type": "code",
   "execution_count": 34,
   "metadata": {},
   "outputs": [],
   "source": [
    "testing = self_play(10)"
   ]
  },
  {
   "cell_type": "code",
   "execution_count": 35,
   "metadata": {},
   "outputs": [
    {
     "name": "stdout",
     "output_type": "stream",
     "text": [
      "draw\n",
      "draw\n",
      "draw\n",
      "draw\n",
      "draw\n",
      "draw\n",
      "draw\n",
      "draw\n",
      "draw\n",
      "draw\n"
     ]
    }
   ],
   "source": [
    "for result,hisotry in testing:\n",
    "    print(result)"
   ]
  },
  {
   "cell_type": "code",
   "execution_count": 26,
   "metadata": {},
   "outputs": [
    {
     "data": {
      "text/plain": [
       "[[(0, 1),\n",
       "  {(0, 0): 0.10152284263959391,\n",
       "   (0, 1): 0.16037735849056603,\n",
       "   (0, 2): 0.11946902654867257,\n",
       "   (1, 0): 0.09844559585492228,\n",
       "   (1, 2): 0.15202702702702703,\n",
       "   (2, 0): 0.10396039603960396,\n",
       "   (2, 1): 0.1551155115511551,\n",
       "   (2, 2): 0.13962264150943396},\n",
       "  [197, 318, 226, 193, 296, 202, 303, 265],\n",
       "  [<__main__.Node at 0x2bb0bc5c9e8>,\n",
       "   <__main__.Node at 0x2bb0bc5cac8>,\n",
       "   <__main__.Node at 0x2bb0bc5ca58>,\n",
       "   <__main__.Node at 0x2bb0bc5c7b8>,\n",
       "   <__main__.Node at 0x2bb0bc5c7f0>,\n",
       "   <__main__.Node at 0x2bb0bc5c6a0>,\n",
       "   <__main__.Node at 0x2bb0bc5c668>,\n",
       "   <__main__.Node at 0x2bb0bc5c710>],\n",
       "  array([[ 0., -1.,  0.],\n",
       "         [ 0.,  1.,  0.],\n",
       "         [ 0.,  0.,  0.]])]]"
      ]
     },
     "execution_count": 26,
     "metadata": {},
     "output_type": "execute_result"
    }
   ],
   "source": [
    "Info"
   ]
  },
  {
   "cell_type": "code",
   "execution_count": null,
   "metadata": {
    "scrolled": true
   },
   "outputs": [],
   "source": [
    "for result,history in Games:\n",
    "    print(result)"
   ]
  },
  {
   "cell_type": "code",
   "execution_count": null,
   "metadata": {},
   "outputs": [],
   "source": [
    "History #Seems like it doesnt really work as expected\n",
    "#I keep only visiting high value, so exploration noise needs to be higher?\n",
    "#or something else is wrong?"
   ]
  },
  {
   "cell_type": "code",
   "execution_count": null,
   "metadata": {},
   "outputs": [],
   "source": [
    "game.result"
   ]
  },
  {
   "cell_type": "code",
   "execution_count": null,
   "metadata": {},
   "outputs": [],
   "source": [
    "SavedGame = History"
   ]
  },
  {
   "cell_type": "code",
   "execution_count": null,
   "metadata": {},
   "outputs": [],
   "source": [
    "Test = History"
   ]
  },
  {
   "cell_type": "code",
   "execution_count": null,
   "metadata": {},
   "outputs": [],
   "source": [
    "Test==SavedGame"
   ]
  },
  {
   "cell_type": "code",
   "execution_count": null,
   "metadata": {},
   "outputs": [],
   "source": [
    "SavedGame"
   ]
  },
  {
   "cell_type": "code",
   "execution_count": null,
   "metadata": {},
   "outputs": [],
   "source": [
    "Test"
   ]
  },
  {
   "cell_type": "code",
   "execution_count": null,
   "metadata": {},
   "outputs": [],
   "source": []
  },
  {
   "cell_type": "code",
   "execution_count": null,
   "metadata": {},
   "outputs": [],
   "source": [
    "History[3][3][0].visit_count"
   ]
  },
  {
   "cell_type": "code",
   "execution_count": null,
   "metadata": {},
   "outputs": [],
   "source": [
    "weird = History[3][3][0]\n",
    "for action in weird.children:\n",
    "    print(weird.children[action].visit_count)\n",
    "    print(weird.children[action].value())\n",
    "    print(weird.children[action].to_play)\n",
    "    print(weird.children[action].hidden_state)"
   ]
  },
  {
   "cell_type": "code",
   "execution_count": null,
   "metadata": {},
   "outputs": [],
   "source": [
    "weird.to_play"
   ]
  },
  {
   "cell_type": "code",
   "execution_count": null,
   "metadata": {},
   "outputs": [],
   "source": []
  },
  {
   "cell_type": "code",
   "execution_count": null,
   "metadata": {},
   "outputs": [],
   "source": [
    "root.visit_count"
   ]
  },
  {
   "cell_type": "code",
   "execution_count": null,
   "metadata": {},
   "outputs": [],
   "source": [
    "for key in root.children:\n",
    "    print(root.children[key].visit_count)\n",
    "    print(root.children[key].prior)\n",
    "    print(root.children[key].value())"
   ]
  },
  {
   "cell_type": "code",
   "execution_count": null,
   "metadata": {},
   "outputs": [],
   "source": [
    "add_exploration_noise(root)"
   ]
  },
  {
   "cell_type": "code",
   "execution_count": null,
   "metadata": {},
   "outputs": [],
   "source": [
    "root.children[(0,0)].prior"
   ]
  },
  {
   "cell_type": "code",
   "execution_count": null,
   "metadata": {},
   "outputs": [],
   "source": [
    "current_node.hidden_state"
   ]
  },
  {
   "cell_type": "code",
   "execution_count": null,
   "metadata": {},
   "outputs": [],
   "source": [
    "root.visit_count"
   ]
  },
  {
   "cell_type": "code",
   "execution_count": null,
   "metadata": {},
   "outputs": [],
   "source": []
  },
  {
   "cell_type": "code",
   "execution_count": null,
   "metadata": {},
   "outputs": [],
   "source": [
    "root.children[(0,0)].visit_count"
   ]
  },
  {
   "cell_type": "code",
   "execution_count": null,
   "metadata": {},
   "outputs": [],
   "source": [
    "root.visit_count"
   ]
  },
  {
   "cell_type": "code",
   "execution_count": null,
   "metadata": {},
   "outputs": [],
   "source": [
    "root.value()"
   ]
  },
  {
   "cell_type": "code",
   "execution_count": null,
   "metadata": {},
   "outputs": [],
   "source": []
  },
  {
   "cell_type": "code",
   "execution_count": null,
   "metadata": {},
   "outputs": [],
   "source": []
  },
  {
   "cell_type": "code",
   "execution_count": null,
   "metadata": {
    "scrolled": true
   },
   "outputs": [],
   "source": [
    "game.state"
   ]
  },
  {
   "cell_type": "code",
   "execution_count": null,
   "metadata": {},
   "outputs": [],
   "source": [
    "\n",
    "for state,move,values in History:\n",
    "    print(state,move,values)"
   ]
  },
  {
   "cell_type": "code",
   "execution_count": null,
   "metadata": {},
   "outputs": [],
   "source": [
    "#How do I make it understand that not playing \n",
    "#(0,2) here means loss\n",
    "[[ 0.  0.  0.]\n",
    " [ 0.  1.  0.]\n",
    " [ 1. -1.  0.]]\n",
    "\n",
    "#How do I make it understand that playing\n",
    "#(0,2) here is the best win, even though 0,0 also keeps 100% win?\n",
    "[[ 0. -1.  0.]\n",
    " [ 0.  1.  0.]\n",
    " [ 1. -1.  0.]]"
   ]
  },
  {
   "cell_type": "code",
   "execution_count": null,
   "metadata": {},
   "outputs": [],
   "source": []
  },
  {
   "cell_type": "code",
   "execution_count": null,
   "metadata": {},
   "outputs": [],
   "source": [
    "game.state"
   ]
  },
  {
   "cell_type": "code",
   "execution_count": null,
   "metadata": {},
   "outputs": [],
   "source": []
  },
  {
   "cell_type": "code",
   "execution_count": null,
   "metadata": {},
   "outputs": [],
   "source": [
    "root.children"
   ]
  },
  {
   "cell_type": "code",
   "execution_count": null,
   "metadata": {
    "scrolled": true
   },
   "outputs": [],
   "source": []
  },
  {
   "cell_type": "code",
   "execution_count": null,
   "metadata": {},
   "outputs": [],
   "source": [
    "actions = []\n",
    "values = []\n",
    "for action,child in root.children.items():\n",
    "    actions.append(action)\n",
    "    values.append(child.value())\n",
    "values"
   ]
  },
  {
   "cell_type": "code",
   "execution_count": null,
   "metadata": {},
   "outputs": [],
   "source": []
  },
  {
   "cell_type": "code",
   "execution_count": null,
   "metadata": {},
   "outputs": [],
   "source": [
    "values"
   ]
  },
  {
   "cell_type": "code",
   "execution_count": null,
   "metadata": {},
   "outputs": [],
   "source": [
    "root.value_sum"
   ]
  },
  {
   "cell_type": "code",
   "execution_count": null,
   "metadata": {},
   "outputs": [],
   "source": [
    "choose_best_action(root)"
   ]
  },
  {
   "cell_type": "code",
   "execution_count": null,
   "metadata": {},
   "outputs": [],
   "source": [
    "parent.value_sum"
   ]
  },
  {
   "cell_type": "code",
   "execution_count": null,
   "metadata": {},
   "outputs": [],
   "source": [
    "parent.visit_count"
   ]
  },
  {
   "cell_type": "code",
   "execution_count": null,
   "metadata": {},
   "outputs": [],
   "source": [
    "fake_game.result"
   ]
  },
  {
   "cell_type": "code",
   "execution_count": null,
   "metadata": {},
   "outputs": [],
   "source": [
    "path[0].hidden_state"
   ]
  },
  {
   "cell_type": "code",
   "execution_count": null,
   "metadata": {},
   "outputs": [],
   "source": [
    "fake_game.state"
   ]
  },
  {
   "cell_type": "code",
   "execution_count": null,
   "metadata": {},
   "outputs": [],
   "source": [
    "for node in path:\n",
    "    print(node.hidden_state)"
   ]
  },
  {
   "cell_type": "code",
   "execution_count": null,
   "metadata": {},
   "outputs": [],
   "source": [
    "current_node.hidden_state"
   ]
  },
  {
   "cell_type": "code",
   "execution_count": null,
   "metadata": {},
   "outputs": [],
   "source": []
  },
  {
   "cell_type": "code",
   "execution_count": null,
   "metadata": {},
   "outputs": [],
   "source": []
  },
  {
   "cell_type": "code",
   "execution_count": null,
   "metadata": {},
   "outputs": [],
   "source": [
    "#     counter = 1\n",
    "#     for turn in stats_tree:\n",
    "#         counter+=1\n",
    "    #A big problem here is that turn_2 can obviously look very different!!!!\n",
    "    #so I need to have a different turn 2 for each possibility\n",
    "    #the new method of children might work, but also need to traverse the depth of them somehow.\n",
    "    root.children.update(action)\n",
    "    \n",
    "    stats_tree.update({'turn_'+str(counter):{}})\n",
    "    for move in moves:\n",
    "        stats_tree['turn_'+str(counter)].update({move:[0,0]})\n",
    "    \n",
    "    return stats_tree"
   ]
  },
  {
   "cell_type": "code",
   "execution_count": null,
   "metadata": {},
   "outputs": [],
   "source": []
  },
  {
   "cell_type": "code",
   "execution_count": null,
   "metadata": {},
   "outputs": [],
   "source": []
  },
  {
   "cell_type": "code",
   "execution_count": null,
   "metadata": {},
   "outputs": [],
   "source": []
  },
  {
   "cell_type": "code",
   "execution_count": null,
   "metadata": {},
   "outputs": [],
   "source": [
    "#stats_tree = {'turn_1':{}}\n",
    "stats_tree = {}\n",
    "for move in moves:\n",
    "    stats_tree[move] = {'children':{},'score':[0,0]}"
   ]
  },
  {
   "cell_type": "code",
   "execution_count": null,
   "metadata": {},
   "outputs": [],
   "source": [
    "for _ in range(1):\n",
    "    move = selection(stats_tree)\n",
    "    stats_tree = update(stats_tree,move,np.resize(np.zeros(9),(3,3)))\n",
    "\n",
    "#state = np.resize(np.zeros(9),(3,3))\n",
    "#state[0,0]=1\n",
    "#state[0,1]=-1\n",
    "                  \n",
    "#stats_tree = expansion(state,stats_tree)"
   ]
  },
  {
   "cell_type": "code",
   "execution_count": null,
   "metadata": {},
   "outputs": [],
   "source": [
    "stats_tree"
   ]
  },
  {
   "cell_type": "code",
   "execution_count": null,
   "metadata": {},
   "outputs": [],
   "source": []
  },
  {
   "cell_type": "code",
   "execution_count": null,
   "metadata": {},
   "outputs": [],
   "source": [
    "moves"
   ]
  },
  {
   "cell_type": "code",
   "execution_count": null,
   "metadata": {},
   "outputs": [],
   "source": [
    "stats_tree[(0,0)]"
   ]
  },
  {
   "cell_type": "code",
   "execution_count": null,
   "metadata": {},
   "outputs": [],
   "source": [
    "stats_tree = {}\n",
    "for move in moves:\n",
    "    stats_tree[move] = {'children':{},'score':[1,1]}"
   ]
  },
  {
   "cell_type": "code",
   "execution_count": null,
   "metadata": {},
   "outputs": [],
   "source": [
    "stats_tree"
   ]
  },
  {
   "cell_type": "code",
   "execution_count": null,
   "metadata": {},
   "outputs": [],
   "source": [
    "stats_tree['turn_1'][(0, 0)] = {'children':{},'score':[1,1]}"
   ]
  },
  {
   "cell_type": "code",
   "execution_count": null,
   "metadata": {},
   "outputs": [],
   "source": [
    "stats_tree"
   ]
  },
  {
   "cell_type": "code",
   "execution_count": null,
   "metadata": {},
   "outputs": [],
   "source": []
  },
  {
   "cell_type": "code",
   "execution_count": null,
   "metadata": {},
   "outputs": [],
   "source": [
    "stats_tree['turn_1'][(0, 0)]"
   ]
  },
  {
   "cell_type": "code",
   "execution_count": null,
   "metadata": {},
   "outputs": [],
   "source": [
    "simulation((0,0),np.resize(np.zeros(9),(3,3)))"
   ]
  },
  {
   "cell_type": "code",
   "execution_count": null,
   "metadata": {},
   "outputs": [],
   "source": [
    "expansion(np.resize(np.zeros(9),(3,3)))"
   ]
  },
  {
   "cell_type": "code",
   "execution_count": null,
   "metadata": {},
   "outputs": [],
   "source": [
    "expansion(np.identity(3))"
   ]
  },
  {
   "cell_type": "code",
   "execution_count": null,
   "metadata": {},
   "outputs": [],
   "source": [
    "results"
   ]
  },
  {
   "cell_type": "code",
   "execution_count": null,
   "metadata": {},
   "outputs": [],
   "source": []
  },
  {
   "cell_type": "code",
   "execution_count": null,
   "metadata": {},
   "outputs": [],
   "source": [
    "moves.pop(moves.index((0,1)))"
   ]
  },
  {
   "cell_type": "code",
   "execution_count": null,
   "metadata": {},
   "outputs": [],
   "source": [
    "moves"
   ]
  },
  {
   "cell_type": "code",
   "execution_count": null,
   "metadata": {},
   "outputs": [],
   "source": [
    "#Pick random move? But I shouldnt really pick random one?\n",
    "np.random.randint(0,len(moves))"
   ]
  },
  {
   "cell_type": "code",
   "execution_count": null,
   "metadata": {},
   "outputs": [],
   "source": []
  },
  {
   "cell_type": "code",
   "execution_count": null,
   "metadata": {},
   "outputs": [],
   "source": [
    "game = TicTacToe()"
   ]
  },
  {
   "cell_type": "code",
   "execution_count": null,
   "metadata": {},
   "outputs": [],
   "source": [
    "game = TicTacToe()"
   ]
  },
  {
   "cell_type": "code",
   "execution_count": null,
   "metadata": {},
   "outputs": [],
   "source": []
  }
 ],
 "metadata": {
  "kernelspec": {
   "display_name": "Python 3",
   "language": "python",
   "name": "python3"
  },
  "language_info": {
   "codemirror_mode": {
    "name": "ipython",
    "version": 3
   },
   "file_extension": ".py",
   "mimetype": "text/x-python",
   "name": "python",
   "nbconvert_exporter": "python",
   "pygments_lexer": "ipython3",
   "version": "3.7.1"
  }
 },
 "nbformat": 4,
 "nbformat_minor": 2
}
